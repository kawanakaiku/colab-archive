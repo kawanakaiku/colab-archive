{
  "nbformat": 4,
  "nbformat_minor": 0,
  "metadata": {
    "colab": {
      "provenance": [],
      "authorship_tag": "ABX9TyPuhxnaGUgIc9O6n50Qvo9a"
    },
    "kernelspec": {
      "name": "python3",
      "display_name": "Python 3"
    },
    "language_info": {
      "name": "python"
    },
    "accelerator": "GPU"
  },
  "cells": [
    {
      "cell_type": "markdown",
      "source": [
        "# ※Colabの環境が更新されたため、現在動作しません※  \n",
        "環境対応が完了次第、再公開予定です\n",
        "\n",
        "\n"
      ],
      "metadata": {
        "id": "smgwrZYqF3lD"
      }
    },
    {
      "cell_type": "markdown",
      "metadata": {
        "id": "yIN3cMruwpQn"
      },
      "source": [
        "# モデルセットアップ方法\n",
        "\n",
        "1.   [Googleドライブ](https://drive.google.com/drive/my-drive)の「TALQu」フォルダ以下の「outdir」フォルダに、生成された「checkpoint_####…」（#は数字）の数字が大きいもの、もしくは、上記のテンサーボードで確認した、いい感じのものをダウンロード\n",
        "2.   BOOTHからダウンロードした「セットアップ用ファイル」の中の「モデル名で書き変えてください」フォルダ名をモデル名で書き変え、そのフォルダの中に、上記でダウンロードした「checkpoint_####…」（#は数字）を入れてください。\n",
        "3.   上記で作ったモデルフォルダの中の「Config.csv」を開いて、【】部分を内容に従って書き換えをしてください。※「Config.csv」の文字コードはUTF-8です。Excelなどで開くと「\"\"」がつくことがあるので、テキストエディタで編集することをお勧めします。  \n",
        "※NTacotron2Model,【ノートブックで生成したチェックポイントファイル名を記入してください】のファイル名自体に「.pt」など拡張子を付けた場合は、Config.csvにも拡張子の記入が必要です。例えばファイル名を「checkpoint_1000.pt」と書き変えた場合、「NTacotron2Model,checkpoint_1000.pt」とする必要があります。\n",
        "\n",
        "Config.csvのデフォルト内容\n",
        "```\n",
        "SpkName,【ここをモデル名で書き変えてください】\n",
        "Icon,icon.png\n",
        "Author,【ここを著者名で書き変えてください】\n",
        "URL,【URLをここに書いてください】,【ボタンに表示するテキストで書き変えてください】\n",
        "NTacotron2Model,【ノートブックで生成したチェックポイントファイル名を記入してください】\n",
        "```\n",
        "Config.csvの記入例\n",
        "```\n",
        "SpkName,Haruqa\n",
        "Icon,icon.png\n",
        "Author,Haruqa\n",
        "URL,https://haruqa.github.io/,Haruqaの利用規約が云々\n",
        "NTacotron2Model,checkpoint_4000\n",
        "```\n",
        "\n",
        "4.   「ReadMe.txt」を書き変えてください。※推奨内容：利用規約、コーパス文の表記、フラットベースモデルの表記。※「ReadMe.txt」の文字コードはUTF-8です。\n",
        "5.   任意でIconファイルを入れてください。推奨アイコンファイル形式：png、正方形で100ピクセル以上。ファイル名を変更したい場合は、変更可能です。変更する場合は「Config.csv」の「Icon,icon.png」の「icon.png」部分を書き変えてください\n",
        "6.   モデル名で書き変えたフォルダをTALQuの「Models」フォルダへ入れて、動作確認を行ってください。再生後、モデルが軽量化されます。※軽量化後のモデルから学習の再開が出来ないのでご注意ください。\n",
        "7.   完成です。"
      ]
    },
    {
      "cell_type": "markdown",
      "source": [
        "# 謝辞\n",
        "\n",
        "下記このノートの、協力者一覧です。ありがとうございます！\n",
        "\n",
        "*   先行収録＆ノートテスト：おふとんP さま (https://twitter.com/joumonsugi) \n",
        "*   MacOSで作成したwavファイル圧縮zip提供：なっちゃそ さま (https://twitter.com/naTeaso)\n",
        "*   仮想WindowsのOREMOで収録→MacOSでファイル圧縮zip提供：九 さま (https://twitter.com/cuecue_cue)\n",
        "*   ライトニング企画参戦ノートテスト：黒羽てふ さま (https://twitter.com/968tehu)\n",
        "*   ライトニング企画参戦ノートテスト：のほしお さま (https://twitter.com/ssohsn)\n",
        "*   ライトニング企画参戦ノートテスト：しゅがもあ さま (https://twitter.com/SUGAmoremusic)\n",
        "*   ライトニング企画参戦ノートテスト：瓶詰め さま (https://twitter.com/bindume_chan2go)\n",
        "*   ライトニング企画参戦ノートテスト：九 さま (https://twitter.com/cuecue_cue)\n",
        "*   ライトニング企画参戦ノートテスト：まにもん さま (https://twitter.com/UtauManimon)\n",
        "*   ライトニング企画参戦ノートテスト：六銃士 さま (https://twitter.com/roku10shi)\n",
        "*   ライトニング企画参戦ノートテスト：草薙快速(にゃさき) さま (https://twitter.com/stcr_5001f)\n",
        "*   ライトニング企画参戦ノートテスト：蒼真キリカ さま (https://twitter.com/kirika70)\n"
      ],
      "metadata": {
        "id": "8lY0-x0NnQuu"
      }
    }
  ]
}
