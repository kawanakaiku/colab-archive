{
  "nbformat": 4,
  "nbformat_minor": 0,
  "metadata": {
    "colab": {
      "provenance": [
        {
          "file_id": "https://github.com/AliaksandrSiarohin/first-order-model/blob/master/demo.ipynb",
          "timestamp": 1617841956092
        }
      ]
    },
    "kernelspec": {
      "name": "python3",
      "display_name": "Python 3"
    },
    "accelerator": "GPU"
  },
  "cells": [
    {
      "cell_type": "markdown",
      "metadata": {
        "id": "cdO_RxQZLahB"
      },
      "source": [
        "# だめだねメーカー／Damedane Maker\n",
        "\n",
        "順次に２つの▶︎ボタンを押して数十秒間経つとアップロードボタンが現れます。生成するにはまた数十秒ほどかかります。\n",
        "\n",
        "Press the 2 ▶︎ buttons in order and an upload button will appear after tens of seconds. It takes another dozens of seconds to generate."
      ]
    },
    {
      "cell_type": "code",
      "metadata": {
        "id": "UCMFMJV7K-ag"
      },
      "source": [
        "%%capture\n",
        "%pip install ffmpeg-python imageio-ffmpeg\n",
        "!git init .\n",
        "!git remote add origin https://github.com/AliaksandrSiarohin/first-order-model\n",
        "!git pull origin master"
      ],
      "execution_count": null,
      "outputs": []
    },
    {
      "cell_type": "code",
      "metadata": {
        "id": "Oxi6-riLOgnm"
      },
      "source": [
        "import IPython.display\n",
        "import PIL.Image\n",
        "import cv2\n",
        "import ffmpeg\n",
        "import requests\n",
        "import imageio\n",
        "import io\n",
        "import ipywidgets\n",
        "import matplotlib.animation as animation\n",
        "import matplotlib.pyplot as plt\n",
        "import numpy as np\n",
        "import os\n",
        "import os.path\n",
        "import time\n",
        "import warnings\n",
        "from base64 import b64encode\n",
        "from demo import load_checkpoints, make_animation  # type: ignore (local file)\n",
        "from google.colab import files, output\n",
        "from shutil import copyfileobj\n",
        "from skimage import img_as_ubyte\n",
        "from skimage.transform import resize\n",
        "from tqdm.auto import tqdm\n",
        "container = ipywidgets.Output()\n",
        "progress_bar = ipywidgets.Output()\n",
        "display(ipywidgets.VBox([container, progress_bar]))\n",
        "def download(url, path):\n",
        "    if os.path.isfile(path):\n",
        "        return\n",
        "    response = requests.get(url, stream=True)\n",
        "    with progress_bar:\n",
        "        with tqdm.wrapattr(response.raw, 'read', total=int(response.headers.get('Content-Length', 0)), unit='B', unit_scale=True, unit_divisor=1024) as raw:\n",
        "            with open(path, 'wb') as file:\n",
        "                copyfileobj(raw, file)\n",
        "    progress_bar.clear_output()\n",
        "warnings.filterwarnings('ignore')\n",
        "download('https://github.com/graphemecluster/first-order-model-demo/raw/main/videos/0.mp4', 'original.mp4')\n",
        "download('https://github.com/graphemecluster/first-order-model-demo/releases/download/checkpoints/vox-cpk.pth.tar', 'vox-cpk.pth.tar')\n",
        "reader = imageio.get_reader('original.mp4')\n",
        "fps = reader.get_meta_data()['fps']\n",
        "driving_video = []\n",
        "try:\n",
        "    for im in reader:\n",
        "        driving_video.append(im)\n",
        "except:\n",
        "    pass\n",
        "reader.close()\n",
        "driving_video = [resize(frame, (256, 256))[:, :, 0:3] for frame in driving_video]\n",
        "input_image_widget = ipywidgets.Output(layout={'border': '1px solid gray', 'width': '256px', 'height': '256px'})\n",
        "upload_input_image_button = ipywidgets.FileUpload(accept='image/*', multiple=False, layout={'width': '256px'})\n",
        "output_video_widget = ipywidgets.Output(layout={'border': '1px solid gray', 'width': '256px', 'height': '256px'})\n",
        "download_output_video_button = ipywidgets.Button(description='Download', layout={'width': '256px'})\n",
        "download_output_video_button.disabled = True\n",
        "with container:\n",
        "    display(ipywidgets.HBox([ipywidgets.VBox([input_image_widget, upload_input_image_button]), ipywidgets.VBox([output_video_widget, download_output_video_button])]))\n",
        "def upload_image(change):\n",
        "    for name, file in upload_input_image_button.value.items():\n",
        "        input = file['content']\n",
        "    if input is None:\n",
        "        return\n",
        "    upload_input_image_button.disabled = True\n",
        "    download_output_video_button.disabled = True\n",
        "    input = PIL.Image.open(io.BytesIO(input))\n",
        "    w, h = input.size\n",
        "    d = min(w, h)\n",
        "    input.resize((256, 256), resample=PIL.Image.LANCZOS, box=((w - d) // 2, (h - d) // 2, (w + d) // 2, (h + d) // 2)).save('temp.png')\n",
        "    input = resize(imageio.imread('temp.png'), (256, 256))[:, :, 0:3]\n",
        "    input_image_widget.clear_output(wait=True)\n",
        "    with input_image_widget:\n",
        "        display(PIL.Image.open('temp.png'))\n",
        "    output_video_widget.clear_output()\n",
        "    generator, kp_detector = load_checkpoints(config_path='config/vox-256.yaml', checkpoint_path='vox-cpk.pth.tar')\n",
        "    with progress_bar:\n",
        "        predictions = make_animation(input, driving_video, generator, kp_detector, relative=True)\n",
        "    progress_bar.clear_output()\n",
        "    imageio.mimsave('output.mp4', [img_as_ubyte(frame) for frame in predictions], fps=fps)\n",
        "    ffmpeg.output(ffmpeg.input('output.mp4').video, ffmpeg.input('original.mp4').audio, 'damedane.mp4', c='copy').overwrite_output().run()\n",
        "    with output_video_widget:\n",
        "        display(ipywidgets.Video.from_file('damedane.mp4', autoplay=False, loop=False, layout={'margin': '0'}))\n",
        "    upload_input_image_button.disabled = False\n",
        "    download_output_video_button.disabled = False\n",
        "def download_video(button):\n",
        "    files.download('damedane.mp4')\n",
        "upload_input_image_button.observe(upload_image, names='value')\n",
        "download_output_video_button.on_click(download_video)"
      ],
      "execution_count": null,
      "outputs": []
    },
    {
      "cell_type": "markdown",
      "metadata": {
        "id": "-JAZCjNQdhOR"
      },
      "source": [
        "無編集の状態で動画を共有する場合は下の▶︎ボタンを押して約１分間お待ちください。サイズ 1920×1080 の動画が生成されます。\n",
        "\n",
        "Press the ▶︎ button below and wait for about a minute for video sharing without editing. A video with size 1920×1080 will be generated."
      ]
    },
    {
      "cell_type": "code",
      "metadata": {
        "id": "jZkqgalpdzK5"
      },
      "source": [
        "ffmpeg.input('damedane.mp4').output('damedane_1920x1080.mp4', vf='scale=1080x1080:flags=lanczos,pad=1920:1080:420:0').overwrite_output().run()\n",
        "files.download('damedane_1920x1080.mp4')"
      ],
      "execution_count": null,
      "outputs": []
    }
  ]
}
