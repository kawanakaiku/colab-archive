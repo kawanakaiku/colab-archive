{
  "cells": [
    {
      "cell_type": "markdown",
      "metadata": {
        "id": "view-in-github",
        "colab_type": "text"
      },
      "source": [
        "<a href=\"https://colab.research.google.com/github/kawanakaiku/colab-archive/blob/main/MYCOEIROINK%E4%BD%9C%E6%88%90%E3%82%B3%E3%83%BC%E3%83%88%E3%82%99_%E3%83%98%E3%82%99%E3%83%BC%E3%82%BF%E7%89%88_v_0_0_3.ipynb\" target=\"_parent\"><img src=\"https://colab.research.google.com/assets/colab-badge.svg\" alt=\"Open In Colab\"/></a>"
      ]
    },
    {
      "cell_type": "markdown",
      "source": [
        "# **利用規約**"
      ],
      "metadata": {
        "id": "IYBYczAEUch4"
      }
    },
    {
      "cell_type": "markdown",
      "source": [
        "- これはCOEIROINK用の音声合成モデルを作るためのコードです。以下「このコードで作成されたCOEIROINK用の音声合成モデル」を「MYCOEIROINK」と表現します。また、コードを実行した時点で、利用規約に同意したものとします。"
      ],
      "metadata": {
        "id": "eCj8vRppUfwl"
      }
    },
    {
      "cell_type": "markdown",
      "source": [
        "## MYCOEIROINK作成に関して"
      ],
      "metadata": {
        "id": "YUBWFggfUwME"
      }
    },
    {
      "cell_type": "markdown",
      "source": [
        "- 「自分の声」以外で作ることは原則禁止です\n",
        "- もし、他者の声で作成する場合は、「COEIROINKでの合成音声化に許諾していること」が作成条件となります\n",
        "- MYCOEIROINKをCOEIROINK以外のアプリケーションで動作させることは禁止です\n",
        "  - （COEIROINK起動時のローカルAPIを利用して、別のソフトウェアと組み合わせることは許容しています）\n",
        "- 配布せずに、自身のみでMYCOEIROINKの音声を使用する場合も、その音声を第三者に公開する際は「[COEIROINKの禁止事項](https://coeiroink.com/terms)」を守り、「クレジット表記」をする必要があります。\n",
        "  - クレジット表記例） 「COEIROINK:<合成音声名>」\n",
        "\n",
        "### 禁止の例\n",
        "\n",
        "- アニメやゲーム、YouTube・ニコニコ動画などの動画サイトの音声を利用してMYCOEIROINKを作る行為\n",
        "- COEIROINKに使われることを想定せずに配布された音声データでMYCOEIROINKを作る行為\n"
      ],
      "metadata": {
        "id": "0DXdg8LvUxXp"
      }
    },
    {
      "cell_type": "markdown",
      "source": [
        "## MYCOEIROINK配布に関して"
      ],
      "metadata": {
        "id": "P-qd77ZvVHe1"
      }
    },
    {
      "cell_type": "markdown",
      "source": [
        "- 配布するMYCOEIROINKに以下の利用規約を必ず入れてください\n",
        "  - [COEIROINKの禁止事項](https://coeiroink.com/terms)（リンクを張ってください）\n",
        "  - 生成された音声を使用する際には**クレジット表記必須**であること\n",
        "    - 「COEIROINK」と「合成音声名」が含まれるクレジットが必須です\n",
        "    - 例） 「COEIROINK:<合成音声名>」\n",
        "- その他の利用規約は自由に設定可能です。[COEIROINKのサイト](https://coeiroink.com/character/audio-character/tsukuyomi-chan)を参考に適宜設定してください。\n",
        "- MYCOEIROINKの**有料配布**は禁止です\n",
        "- MYCOEIROINKを機械学習用の事前学習モデルとして配布するのは禁止です"
      ],
      "metadata": {
        "id": "p8JpF7ZVVL3k"
      }
    },
    {
      "cell_type": "markdown",
      "source": [
        "## MYCOEIROINK配布の危険性に関して"
      ],
      "metadata": {
        "id": "bE755CVVVPRH"
      }
    },
    {
      "cell_type": "markdown",
      "source": [
        "MYCOEIROINKには、以下の危険性があります。その危険性を理解した上で配布を行ってください。\n",
        "\n",
        "- 利用規約を守らずに使用をされる危険性\n",
        "  - 例） ディープフェイクなどのなりすましに使われる\n",
        "\n",
        "MYCOEIROINK配布によって、いかなる不利益が生じたとしても、運営者は一切責任を負いません。免責事項をご確認ください。"
      ],
      "metadata": {
        "id": "njwB5eRwVVUb"
      }
    },
    {
      "cell_type": "markdown",
      "source": [
        "## コードに関して"
      ],
      "metadata": {
        "id": "tvL7a1RyVgBA"
      }
    },
    {
      "cell_type": "markdown",
      "source": [
        "- コードの改変の有無に関わらず、このコードを再配布する行為は禁止です\n",
        "- コードを改変して利用した場合、その合成音声モデルはMYCOEIROINKとみなされない可能性があります\n",
        "  - このコード内でCOEIROINK提供でない事前学習モデルを使う行為は禁止です（「**自身**で作成したMYCOEIROINKを事前学習モデルに使うことは例外的に許可しています。」）"
      ],
      "metadata": {
        "id": "kDvNCZINVg3T"
      }
    },
    {
      "cell_type": "markdown",
      "source": [
        "## COEIROINKに関して"
      ],
      "metadata": {
        "id": "FX1A7E1DVj46"
      }
    },
    {
      "cell_type": "markdown",
      "source": [
        "- COEIROINKソフトウェア上で、「COEIROINK提供の合成音声、または、MYCOEIROINK」以外の合成音声を利用する行為は禁止です"
      ],
      "metadata": {
        "id": "E0f0qwAbVmdJ"
      }
    },
    {
      "cell_type": "markdown",
      "source": [
        "# **免責事項**"
      ],
      "metadata": {
        "id": "aiPATGUbVsm6"
      }
    },
    {
      "cell_type": "markdown",
      "source": [
        "- MYCOEIROINK、および、このコードを使用すること、または使用できなかったことによって、いかなる不利益が生じたとしても、運営者は一切責任を負いません\n",
        "- 当サイトに掲載されている情報の正確性・最新性について、運営者は一切責任を負いません\n",
        "- ユーザー間、またはユーザーと第三者の間に生じたトラブルについては、当事者間で解決を図っていただくものとし、運営者は一切関知いたしません"
      ],
      "metadata": {
        "id": "DGLsli0rVzWu"
      }
    },
    {
      "cell_type": "markdown",
      "source": [
        "# **提供について**"
      ],
      "metadata": {
        "id": "4BojIgWkV0UQ"
      }
    },
    {
      "cell_type": "markdown",
      "source": [
        "- サービスの継続やアップデートについての決定権はこのページの管理者にあります\n",
        "- 不具合があったとしても、管理者は対応する義務を負わないものとします\n",
        "- サービスの内容は予告なく変更されることがあります\n",
        "- サービスは予告なく終了することがあります\n",
        "- コードの著作権は運営者に帰属します\n",
        "- 本規約に反する行為がある場合には、本コードを利用したコンテンツを停止していただく場合があります"
      ],
      "metadata": {
        "id": "iPrVOK8vV4u2"
      }
    },
    {
      "cell_type": "markdown",
      "source": [
        "# **作成に関して**"
      ],
      "metadata": {
        "id": "CSzgm045WJCZ"
      }
    },
    {
      "cell_type": "markdown",
      "source": [
        "## MYCOEIROINKの作成と利用に必要なもの"
      ],
      "metadata": {
        "id": "g2sz6IopWPod"
      }
    },
    {
      "cell_type": "markdown",
      "source": [
        "- COEIROINK（v.1.1.0以上）\n",
        "  - あらかじめ、自身のPCでCOEIROINKが動作するか確認しておいてください\n",
        "- Googleアカウント、および、Google Driveの空き容量\n",
        "  - 最大 **7GB** 程度要します\n",
        "- ITAコーパス読み上げ音声wav\n",
        "  - 424文の読み上げ音声\n",
        "    - [emotion](https://github.com/mmorise/ita-corpus/blob/main/emotion_%E6%9C%97%E8%AA%AD%E8%80%85%E7%94%A8.pdf)\n",
        "    - [recitation](https://github.com/mmorise/ita-corpus/blob/main/recitation_transcript_utf8.txt)\n",
        "  - wavの推奨設定\n",
        "    - 44.1kHz\n",
        "    - 16bit\n",
        "    - モノラル"
      ],
      "metadata": {
        "id": "w-RxtdF5YPhE"
      }
    },
    {
      "cell_type": "markdown",
      "source": [
        "## Google colabに関して"
      ],
      "metadata": {
        "id": "ieHd3KJxYWjb"
      }
    },
    {
      "cell_type": "markdown",
      "source": [
        "- このコードはGoogleのクラウド環境で実行するため、あなたのPCのスペックは関係なく、負荷もかかりません\n",
        "- Google colabはセッションが切れると初期状態になります。初期状態になった場合は、あなたのGoogle Driveに保存しているもの以外はなくなり、コードも再度最初から実行する必要があります\n",
        "- Google colab実行中はブラウザを閉じたり、PCがスリープ状態になると、セッションが切れ、初期状態に戻る可能性があります\n",
        "- もし、セッションがMYCOEIROINK作成の途中で切れた場合は、再度最初からやり直しになります\n",
        "- Google colabでは12時間連続で使用すると、使用制限がかかることがあります。その場合は時間を置いて、使用制限が解除されてから、実行してください\n",
        "- Google colabのアップデートの影響を受けて、このコードは動かなくなる可能性があります。"
      ],
      "metadata": {
        "id": "SaYSXZBtYYEF"
      }
    },
    {
      "cell_type": "markdown",
      "source": [
        "## 作成時間に関して"
      ],
      "metadata": {
        "id": "33PNADJdYazX"
      }
    },
    {
      "cell_type": "markdown",
      "source": [
        "このコードを実行したあと、音声合成モデルの作成には12時間程度、ブラウザを開けた状態で放置する必要があります。"
      ],
      "metadata": {
        "id": "emIvAEB_Ydrq"
      }
    },
    {
      "cell_type": "markdown",
      "source": [
        "# バージョン履歴"
      ],
      "metadata": {
        "id": "k9Bhb6GTCznI"
      }
    },
    {
      "cell_type": "markdown",
      "source": [
        "[2022-04-02: v.0.0.3] \n",
        "- 説明文を一部修正\n",
        "\n",
        "[2022-04-02: v.0.0.2] \n",
        "- 説明中の間違いを一部修正\n",
        "- zip内のwavの検出部分を修正\n",
        "\n",
        "[2022-04-02: v.0.0.1] \n",
        "- 初回リリース"
      ],
      "metadata": {
        "id": "MeU7C6WADw8Z"
      }
    },
    {
      "cell_type": "markdown",
      "metadata": {
        "id": "I0wmKQF6ERPC"
      },
      "source": [
        "========================================================\n",
        "\n",
        "# **上記の規約を確認しましたか？**\n",
        "\n",
        "以下から、MYCOEIROINKの作成パートです。実行した時点で規約に同意したものとなります。\n",
        "\n",
        "========================================================"
      ]
    },
    {
      "cell_type": "markdown",
      "source": [
        "# 事前準備"
      ],
      "metadata": {
        "id": "hVH8JA6-xnGV"
      }
    },
    {
      "cell_type": "markdown",
      "source": [
        "音声モデル作成のためにGPUを使用する設定をしてください\n",
        "\n",
        "上のバーから「ランタイム > ランタイムのタイプを変更」を選択します。\n",
        "\n",
        "次に「ハードウェア アクセラレータ」を「GPU」に変更して「保存」を選択します。\n",
        "\n",
        "<img src=\"https://drive.google.com/uc?export=view&id=1cVcT3Rh15Xl2YnXThIZ2d6mJ546jqRZ6\" border=\"5\" width=80%>\n",
        "\n",
        "<img src=\"https://drive.google.com/uc?export=view&id=1cZEyn-RCkrEQom9fF-UQ7jEGgd5t3ykd\" border=\"5\" width=20%>"
      ],
      "metadata": {
        "id": "UEAdMQDOxpkr"
      }
    },
    {
      "cell_type": "markdown",
      "source": [
        "# 必要なデータのダウンロード"
      ],
      "metadata": {
        "id": "vbJYXu6nt87V"
      }
    },
    {
      "cell_type": "markdown",
      "source": [
        "**ここでエラーになる場合**\n",
        "\n",
        "MYCOEIROINKの利用者が多い場合、Google Driveのダウンロード制限により、必要なデータがダウンロードできなくなっている可能性があります。時間を空けてお試しください。"
      ],
      "metadata": {
        "id": "luTbXdTou5OL"
      }
    },
    {
      "cell_type": "code",
      "source": [
        "#@title 「必要なデータのダウンロード」のために左の再生ボタンをおしてください\n",
        "!pip install --upgrade gdown\n",
        "import gdown\n",
        "gdown.download('https://drive.google.com/uc?id=1vJ5QBy5o6vnIRX9fMLR8iQO-KqmqzhfS', '/content/dummy_speaker_info.zip', quiet=False)\n",
        "gdown.download('https://drive.google.com/uc?id=16tsCmOkNcNWK88t_gKlpq2GB9iu5sviW', '/content/ita_corpus_modified_by_shirowanisan.txt', quiet=False)\n",
        "gdown.download('https://drive.google.com/uc?id=1q7nd6thUlJ8M2VjicN7e_lJ-8aPvKpsk', '/content/mycoe_pretrain_model.zip', quiet=False)\n",
        "\n",
        "import os\n",
        "if not os.path.exists('/content/dummy_speaker_info.zip') or not os.path.exists('/content/ita_corpus_modified_by_shirowanisan.txt') or not os.path.exists('/content/mycoe_pretrain_model.zip'):\n",
        "  raise Exception('MYCOEIROINKの利用者多い場合、Google Driveのダウンロード制限により、必要なデータがダウンロードできなくなっている可能性があります。時間を空けてお試しください。')"
      ],
      "metadata": {
        "id": "b2I_SKuot8RJ",
        "cellView": "form"
      },
      "execution_count": null,
      "outputs": []
    },
    {
      "cell_type": "markdown",
      "metadata": {
        "id": "QBe4jBjAtnvP"
      },
      "source": [
        "# Googleドライブのマウント"
      ]
    },
    {
      "cell_type": "markdown",
      "source": [
        "**注意点1**\n",
        "\n",
        "```\n",
        "このコードで「あなたのGoogle Drive」に接続します。\n",
        "これにより、このコードは「あなたのGoogle Driveのファイルにアクセスできるようになります」\n",
        "MYCOEIROINKのコードの実行結果は、あなたのGoogle Driveの「MYCOEIROINK_WORK」フォルダに保存されます。\n",
        "MYCOEIROINKのコードは「MYCOEIROINK_WORK」フォルダ以外にはアクセスしないように設計しているつもりですが、\n",
        "もし「あなたのGoogle Driveのフォルダに影響を及ぼしたとしても責任はとれません（免責事項参照）」。\n",
        "それをご理解の上、実行お願いします。\n",
        "より、安全に実行したい場合は、Google Driveが空の状態で実行することをオススメします。\n",
        "また、MYCOEIROINKのなりすましコードにもお気をつけください。ちゃんとCOEIROINKのホームページ（coeiroink.com）からアクセスして、このコードを実行するようにしてください。\n",
        "```\n",
        "\n",
        "**注意点2**\n",
        "\n",
        "Google Driveの空き容量は「**7GB**」程度必要です。\n",
        "\n",
        "**手順**\n",
        "\n",
        "<img src=\"https://drive.google.com/uc?export=view&id=1aTEXrqYVYLo2C-TJqyXqhv7XbUACrgpG\" border=\"5\" width=80%>\n",
        "\n",
        "<img src=\"https://drive.google.com/uc?export=view&id=1tFJ4iiWl4vYE0Gdev4gPk8rmYZy7GrVV\" border=\"5\" width=20%>"
      ],
      "metadata": {
        "id": "AdUaxupjr5xF"
      }
    },
    {
      "cell_type": "code",
      "execution_count": null,
      "metadata": {
        "id": "XonqbnmmumCJ",
        "cellView": "form"
      },
      "outputs": [],
      "source": [
        "#@title 「Googleドライブのマウント」のために左の再生ボタンをおしてください\n",
        "from google.colab import drive\n",
        "drive.mount('/content/drive')"
      ]
    },
    {
      "cell_type": "markdown",
      "source": [
        "# あなたの音声データzipを入れるためのフォルダを作成"
      ],
      "metadata": {
        "id": "k8NRkvyJsXao"
      }
    },
    {
      "cell_type": "markdown",
      "source": [
        "このコードを実行すると、あなたのGoogle Driveに以下のフォルダが作成されます。\n",
        "\n",
        "<img src=\"https://drive.google.com/uc?export=view&id=1Vso8bKI8PiMGINOjbtyzttZfhmHqtC-g\" border=\"5\" width=80%>"
      ],
      "metadata": {
        "id": "sQmaj4w23xwG"
      }
    },
    {
      "cell_type": "code",
      "execution_count": null,
      "metadata": {
        "id": "qQf09W8FtwKK",
        "cellView": "form"
      },
      "outputs": [],
      "source": [
        "#@title 「あなたの音声データzipを入れるためのフォルダを作成」のために左の再生ボタンをおしてください\n",
        "import os\n",
        "os.makedirs('/content/drive/MyDrive/MYCOEIROINK_WORK/あなたの音声データzipを入れてください', exist_ok=True)"
      ]
    },
    {
      "cell_type": "markdown",
      "source": [
        "# あなたのITAコーパスをzip化してGoogle Driveにあげてください"
      ],
      "metadata": {
        "id": "XhDNQakB4b-Z"
      }
    },
    {
      "cell_type": "markdown",
      "source": [
        "以下のようにITAコーパスをGoogle Driveに上げてください。\n",
        "\n",
        "<img src=\"https://drive.google.com/uc?export=view&id=1Awazepkqjmpw1obLfzWkKi_eF50dGNH2\" border=\"5\" width=80%>"
      ],
      "metadata": {
        "id": "7rg0XKWf6ndj"
      }
    },
    {
      "cell_type": "markdown",
      "source": [
        "zipを解凍したときのファイル名は以下のようにしてください。\n",
        "\n",
        "<img src=\"https://drive.google.com/uc?export=view&id=1N5j1-WBa58Ar9cdDb9ayawFRQTJsZn6M\" border=\"5\" width=30%>"
      ],
      "metadata": {
        "id": "lgw22Qxl7Jz5"
      }
    },
    {
      "cell_type": "markdown",
      "source": [
        "# zip内の内容確認"
      ],
      "metadata": {
        "id": "fXK0JnevsbJO"
      }
    },
    {
      "cell_type": "markdown",
      "source": [
        "ここであなたがアップロードしたzipの内容を確認します。zipの中身に問題がある場合はここでエラーになります。\n",
        "\n",
        "音声zipを上げてすぐだと、認識できておらずエラーになる可能性があります。"
      ],
      "metadata": {
        "id": "-wHmB0-08jqt"
      }
    },
    {
      "cell_type": "code",
      "execution_count": null,
      "metadata": {
        "id": "Lc7ZnOLCujwE",
        "cellView": "form"
      },
      "outputs": [],
      "source": [
        "#@title 「zip内の内容確認」のために左の再生ボタンをおしてください\n",
        "import glob\n",
        "import shutil\n",
        "import gdown\n",
        "\n",
        "colab_workspace = '/content'\n",
        "zip_folder = '/content/drive/MyDrive/MYCOEIROINK_WORK/あなたの音声データzipを入れてください'\n",
        "zip_path = glob.glob(zip_folder + '/*.zip')[0]\n",
        "workspace_zip_path = colab_workspace + '/wavs.zip'\n",
        "wavs_folder = colab_workspace + '/wavs'\n",
        "shutil.copyfile(zip_path, workspace_zip_path)\n",
        "shutil.unpack_archive(workspace_zip_path, wavs_folder)\n",
        "\n",
        "wav_paths = sorted(glob.glob(wavs_folder + '/**/*.wav', recursive=True))\n",
        "wav_names = [wav_path.split('/')[-1].replace('.wav', '') for wav_path in wav_paths]\n",
        "\n",
        "with open('/content/ita_corpus_modified_by_shirowanisan.txt', encoding='utf-8') as f:\n",
        "  text = f.readlines()\n",
        "ita_corpus_names = [s.split(':')[0] for s in text]\n",
        "\n",
        "for wav_name in wav_names:\n",
        "  if wav_name not in ita_corpus_names:\n",
        "    raise Exception(f\"「{wav_name}」というwavファイルが含まれており、このファイル名はITAコーパスに含まれていません。\")\n",
        "\n",
        "if len(wav_names) != 424:\n",
        "  raise Exception(f\"wavファイルの数が「{len(wav_names)}」ですが、ITAコーパスは424ファイルとなるのが正しいです。\")"
      ]
    },
    {
      "cell_type": "markdown",
      "source": [
        "# 音声の前処理"
      ],
      "metadata": {
        "id": "DB90MUFz8yqk"
      }
    },
    {
      "cell_type": "code",
      "source": [
        "#@title 「音声の前処理」のために左の再生ボタンをおしてください\n",
        "!pip install librosa==0.8.1 SoundFile==0.10.3.post1\n",
        "import soundfile as sf\n",
        "import librosa\n",
        "from librosa.util import normalize\n",
        "\n",
        "MAX_WAV_VALUE = 32768.0\n",
        "sampling_fs = 44100\n",
        "\n",
        "normalized_wavs_path = '/content/normalized_wavs'\n",
        "os.makedirs(normalized_wavs_path, exist_ok=True)\n",
        "\n",
        "# wavのサンプリング周波数と音量の調整\n",
        "for wav_path in wav_paths:\n",
        "  wav, original_fs = sf.read(wav_path)\n",
        "  resampling_wav = librosa.resample(wav, original_fs, sampling_fs)\n",
        "  normalized_wav = normalize(resampling_wav) * 0.90\n",
        "  sf.write(normalized_wavs_path + '/' + wav_path.split('/')[-1], normalized_wav, sampling_fs, 'PCM_16')"
      ],
      "metadata": {
        "id": "xZn71RUdxwgA",
        "cellView": "form"
      },
      "execution_count": null,
      "outputs": []
    },
    {
      "cell_type": "markdown",
      "source": [
        "#Speaker_infoフォルダの作成"
      ],
      "metadata": {
        "id": "O1ZJs1Tlrm0f"
      }
    },
    {
      "cell_type": "markdown",
      "source": [
        "このコードを実行することで、Google Driveに「speaker_info」フォルダが作成されれます。\n",
        "こちらのフォルダはMYCOEIROINK配布時に使います。\n",
        "\n",
        "<img src=\"https://drive.google.com/uc?export=view&id=1ikASBxoneN0lT9wOo7VG3_fBdvtqcpEq\" border=\"5\" width=80%>"
      ],
      "metadata": {
        "id": "YmBUPzs9Aaud"
      }
    },
    {
      "cell_type": "code",
      "source": [
        "#@title 「Speaker_infoフォルダの作成」のために左の再生ボタンをおしてください\n",
        "%cd /content/\n",
        "!pip install --upgrade gdown\n",
        "\n",
        "!unzip /content/dummy_speaker_info.zip\n",
        "\n",
        "import uuid\n",
        "import random\n",
        "import shutil\n",
        "import json\n",
        "import os\n",
        "\n",
        "speaker_uuid = str(uuid.uuid1())\n",
        "speaker_id = random.randint(10001, 2147483647)\n",
        "\n",
        "shutil.move('/content/dummy_speaker_info/icons/<speaker_id>.png', f\"/content/dummy_speaker_info/icons/{speaker_id}.png\")\n",
        "shutil.move('/content/dummy_speaker_info/voice_samples/<speaker_id>_001.wav', f\"/content/dummy_speaker_info/voice_samples/{speaker_id}_001.wav\")\n",
        "shutil.move('/content/dummy_speaker_info/voice_samples/<speaker_id>_002.wav', f\"/content/dummy_speaker_info/voice_samples/{speaker_id}_002.wav\")\n",
        "shutil.move('/content/dummy_speaker_info/voice_samples/<speaker_id>_003.wav', f\"/content/dummy_speaker_info/voice_samples/{speaker_id}_003.wav\")\n",
        "shutil.move('/content/dummy_speaker_info/model/<speaker_id>', f\"/content/dummy_speaker_info/model/{speaker_id}\")\n",
        "\n",
        "metas = {\n",
        "    \"speakerName\": \"MYCOEIROINK\",\n",
        "    \"speakerUuid\": speaker_uuid,\n",
        "    \"styles\": [\n",
        "        {\n",
        "            \"styleName\": \"のーまる\",\n",
        "            \"styleId\": speaker_id\n",
        "        }\n",
        "    ]\n",
        "}\n",
        "\n",
        "with open('dummy_speaker_info/metas.json', mode='w', encoding='utf-8') as f:\n",
        "  json.dump(metas, f, indent=4, ensure_ascii=False)\n",
        "\n",
        "os.makedirs('/content/drive/MyDrive/MYCOEIROINK_WORK/speaker_info', exist_ok=True)\n",
        "shutil.copytree('/content/dummy_speaker_info', f\"/content/drive/MyDrive/MYCOEIROINK_WORK/speaker_info/{speaker_uuid}\")\n",
        "!rm -rf dummy_speaker_info"
      ],
      "metadata": {
        "id": "nOrqijqUrdr0",
        "cellView": "form"
      },
      "execution_count": null,
      "outputs": []
    },
    {
      "cell_type": "markdown",
      "source": [
        "# モデルの作成のための環境構築1"
      ],
      "metadata": {
        "id": "k7ZJCFk7S-_o"
      }
    },
    {
      "cell_type": "markdown",
      "source": [
        "モデル作成のための準備をします。このコードの実行には「5分」程度かかります。\n",
        "\n",
        "途中でERRORっぽい赤文字が表示されるかもしれませんが、次のコードでエラーにならなければ問題ありません。"
      ],
      "metadata": {
        "id": "zpFjv-FuA8Oq"
      }
    },
    {
      "cell_type": "code",
      "execution_count": null,
      "metadata": {
        "id": "hhKAYHMzLtAM",
        "cellView": "form"
      },
      "outputs": [],
      "source": [
        "#@title 「モデルの作成のための環境構築1」のために左の再生ボタンをおしてください\n",
        "!git clone https://github.com/shirowanisan/espnet.git\n",
        "!cd espnet; git checkout 0.10.3; git branch\n",
        "!pip install espnet==0.10.3 pyopenjtalk==0.1.3 nnmnkwii\n",
        "!git clone https://github.com/kaldi-asr/kaldi\n",
        "!cd espnet/tools; ln -s $(pwd)/../../kaldi .\n",
        "!mkdir -p espnet/tools/venv/bin && touch espnet/tools/venv/bin/activate"
      ]
    },
    {
      "cell_type": "markdown",
      "source": [
        "# モデルの作成のための環境構築2"
      ],
      "metadata": {
        "id": "gEevoTHTRjgM"
      }
    },
    {
      "cell_type": "code",
      "execution_count": null,
      "metadata": {
        "id": "p8e_RJWuO96D",
        "cellView": "form"
      },
      "outputs": [],
      "source": [
        "#@title 「モデルの作成のための環境構築2」のために左の再生ボタンをおしてください\n",
        "espnet_wavs_dir = '/content/espnet/egs2/mycoe/tts1/downloads/wavs'\n",
        "os.makedirs(espnet_wavs_dir, exist_ok=True)\n",
        "\n",
        "wav_paths = sorted(glob.glob('/content/normalized_wavs/*.wav'))\n",
        "\n",
        "for wav_path in wav_paths:\n",
        "  shutil.copyfile(wav_path, espnet_wavs_dir + '/' + wav_path.split('/')[-1])\n",
        "\n",
        "%cd /content/\n",
        "!unzip /content/mycoe_pretrain_model.zip\n",
        "\n",
        "import shutil\n",
        "shutil.copyfile('/content/mycoe_pretrain_model/100epoch.pth', '/content/espnet/egs2/mycoe/tts1/downloads/100epoch.pth')\n",
        "shutil.copyfile('/content/mycoe_pretrain_model/tokens.txt', '/content/espnet/egs2/mycoe/tts1/downloads/tokens.txt')"
      ]
    },
    {
      "cell_type": "markdown",
      "source": [
        "# モデルの作成のための環境構築3"
      ],
      "metadata": {
        "id": "qePotwl4UAdq"
      }
    },
    {
      "cell_type": "markdown",
      "source": [
        "モデル作成のための準備をします。このコードの実行には「3分」程度かかります。"
      ],
      "metadata": {
        "id": "HI5AlwSOBNHu"
      }
    },
    {
      "cell_type": "code",
      "execution_count": null,
      "metadata": {
        "id": "pwNtwuqoKytj",
        "cellView": "form"
      },
      "outputs": [],
      "source": [
        "#@title 「モデルの作成のための環境構築3」のために左の再生ボタンをおしてください\n",
        "%cd /content/espnet/egs2/mycoe/tts1/\n",
        "!./run.sh \\\n",
        "    --stage 1 \\\n",
        "    --stop-stage 5 \\\n",
        "    --ngpu 1 \\\n",
        "    --fs 44100 \\\n",
        "    --n_fft 2048 \\\n",
        "    --n_shift 512 \\\n",
        "    --win_length null \\\n",
        "    --dumpdir dump/44k \\\n",
        "    --expdir /content/drive/MyDrive/MYCOEIROINK_WORK/exp \\\n",
        "    --tts_task gan_tts \\\n",
        "    --feats_extract linear_spectrogram \\\n",
        "    --feats_normalize none \\\n",
        "    --train_config ./conf/finetune.yaml\n",
        "%cd /content/\n",
        "!mv /content/espnet/egs2/mycoe/tts1/dump/44k/token_list/phn_jaconv_pyopenjtalk_prosody/tokens.txt /content/espnet/egs2/mycoe/tts1/dump/44k/token_list/phn_jaconv_pyopenjtalk_prosody/tokens.bak.txt\n",
        "!cp /content/espnet/egs2/mycoe/tts1/downloads/tokens.txt /content/espnet/egs2/mycoe/tts1/dump/44k/token_list/phn_jaconv_pyopenjtalk_prosody/tokens.txt"
      ]
    },
    {
      "cell_type": "markdown",
      "source": [
        "## モデルの学習スタート"
      ],
      "metadata": {
        "id": "SWsSRDLJUEEM"
      }
    },
    {
      "cell_type": "markdown",
      "source": [
        "ついにモデルを作成コードの実行です。このコードの実行は「終わらないもの」と考えてください。\n",
        "\n",
        "Google colabと接続が切れる12時間程度実行し続けましょう。\n",
        "\n",
        "モデル学習の途中経過は適宜、あなたのGoogle Driveの「MYCOEIROINK_WORK/exp」の中に保存されていますので、学習の途中でGoogle colabと接続が切れても問題ありません。"
      ],
      "metadata": {
        "id": "prQB1hpRCeYw"
      }
    },
    {
      "cell_type": "code",
      "execution_count": null,
      "metadata": {
        "id": "J3GFhp942gPS",
        "cellView": "form"
      },
      "outputs": [],
      "source": [
        "#@title 「モデルの学習スタート」のために左の再生ボタンをおしてください\n",
        "%cd /content/espnet/egs2/mycoe/tts1/\n",
        "!./run.sh \\\n",
        "    --stage 6 \\\n",
        "    --stop-stage 6 \\\n",
        "    --ngpu 1 \\\n",
        "    --fs 44100 \\\n",
        "    --n_fft 2048 \\\n",
        "    --n_shift 512 \\\n",
        "    --win_length null \\\n",
        "    --dumpdir dump/44k \\\n",
        "    --expdir /content/drive/MyDrive/MYCOEIROINK_WORK/exp \\\n",
        "    --tts_task gan_tts \\\n",
        "    --feats_extract linear_spectrogram \\\n",
        "    --feats_normalize none \\\n",
        "    --train_config ./conf/finetune.yaml \\\n",
        "    --train_args \"--init_param downloads/100epoch.pth:tts:tts\" \\\n",
        "    --tag mycoe_model\n",
        "%cd /content/"
      ]
    },
    {
      "cell_type": "markdown",
      "source": [
        "# モデルをCOEIROINKで動かすには？"
      ],
      "metadata": {
        "id": "oIRSbYG0ywBB"
      }
    },
    {
      "cell_type": "markdown",
      "source": [
        "## MYCOEIROINKのダウンロード\n",
        "\n",
        "まず、Google Driveの「MYCOEIROINK_WORK/speaker_info」内の「数値と文字で構成されるフォルダ」をダウンロードしてください。\n",
        "\n",
        "<img src=\"https://drive.google.com/uc?export=view&id=1bBYlIZa5DUK34Lt8sZjgGPe3lyT4j2qo\" border=\"5\" width=40%>\n",
        "\n",
        "次に「MYCOEIROINK_WORK/exp/tts_mycoe_model」内の「xx.epoch」の「xx」が最大となるもの。「config.yaml」をダウンロードしてください。\n",
        "\n",
        "<img src=\"https://drive.google.com/uc?export=view&id=16yzndWaOGWrsD9z5WIOVng2a8sYpOn3i\" border=\"5\" width=40%>\n",
        "\n",
        "## MYCOEIROINKの準備\n",
        "\n",
        "ダウロードした「数値と文字で構成されるフォルダ」内の「数値と文字で構成されるフォルダ/model/数値/」の下に「xx.epoch」と「config.yaml」を配置してください。\n",
        "\n",
        "<img src=\"https://drive.google.com/uc?export=view&id=1wSoWD1PFS9lYy1FQQObz8Zgp9cHOgqd2\" border=\"5\" width=40%>\n",
        "\n",
        "## MYCOEIROINKをCOEIROINKに組み込む\n",
        "\n",
        "準備できた「数値と文字で構成されるフォルダ」をCOEIROINKソフトフェア本体の「COEIROINK-CPU-v.x.x.x/speaker_info」の中に配置しましょう。（COEIROINKのバージョンは1.1.0以上である必要があります。）\n",
        "\n",
        "<img src=\"https://drive.google.com/uc?export=view&id=1gNKrSB59i82oaDPyReEZAk5MswBqWy1j\" border=\"5\" width=40%>\n",
        "\n",
        "## COEIROINKの起動\n",
        "\n",
        "COEIROINKを起動すると、あなたの「MYCOEIROINK」を動かすことができます。\n",
        "\n",
        "※ MYCOEIROINKは「つくよみちゃん（れいせい）」をベースとして作成されています。声質が「つくよみちゃん（れいせい）」から変わっていない場合は配布は行わないでください。\n",
        "\n",
        "<img src=\"https://drive.google.com/uc?export=view&id=1RZttqOTLIalL4BG_R4QYzAgQpeyV-VdC\" border=\"5\" width=40%>\n",
        "\n",
        "<img src=\"https://drive.google.com/uc?export=view&id=19B9W2M2YCbShvtvr38MIIvOl_d2NQLSL\" border=\"5\" width=40%>\n",
        "\n",
        "## MYCOEIROINKのカスタマイズ\n",
        "\n",
        "名前を変えずに以下のファイルを置き換えることで「画像・アイコン・サンプルボイス・名前」を変えることができます。\n",
        "\n",
        "<img src=\"https://drive.google.com/uc?export=view&id=1pXnaxibz13NPTApGMQQGfTtrNlSDbz8I\" border=\"5\" width=40%>\n",
        "\n",
        "「名前」を変えたい場合はmetas.jsonの以下を修正してください。\n",
        "\n",
        "<img src=\"https://drive.google.com/uc?export=view&id=14ZBE1tNfgCcupPn_cdu4nuiRpMrE05AF\" border=\"5\" width=40%>\n",
        "\n",
        "## MYCOEIROINKの配布方法について\n",
        "\n",
        "「数値と文字で構成されるフォルダ」をzip化して配布してください。ダウンロードした人が「COEIROINK-CPU-v.x.x.x/speaker_info」の中に配置することで実行できます。\n",
        "\n"
      ],
      "metadata": {
        "id": "J6BIfDlm3t7B"
      }
    },
    {
      "cell_type": "markdown",
      "source": [
        "# Q & A （一部開発者向け）\n",
        "\n",
        "## MYCOEIROINKを初期化したい\n",
        "\n",
        "Google Drive内の「MYCOEIROINK_WORK」フォルダを削除してください。\n",
        "\n",
        "## ITAコーパス以外の音声で作れますか？\n",
        "\n",
        "可能ですが、このコードでの提供は現在準備中です。\n",
        "\n",
        "## ITAコーパス以外の音声で学習させてもいいですか？\n",
        "\n",
        "現状は、原則禁止です。\n",
        "\n",
        "## MYCOEIROINKが上手く反応しない\n",
        "\n",
        "COEIROINK内の設定を初期化することで改善する可能性があります\n",
        "「%APPDATA%/voicevox-modified-by-shirowanisan/」フォルダを削除することで、COEIROINKの設定を初期化できます。\n",
        "\n",
        "## 作ってみましたが、音声の品質がよくありません\n",
        "\n",
        "生成された「xx.epoch」ファイルのxxですが、これはモデルを作るための学習の進み度合いを示しています。15epoch程度では、音声の品質が悪い可能性があります。しかし、google colabは12時間しか連続起動できないため、15epoch程度のモデルしか作れない問題があります。\n",
        "これを解決するために、作った15epochをスタートとして、学習を回し始める方法もありますが、少し難易度が高いです。\n",
        "\n",
        "## 自分で作ったMYCOEIROINKを事前学習モデルとして、MYCOEIROINKを作ってもいいですか？\n",
        "\n",
        "例外的に許可します。ただし「COEIROINK提供の事前学習モデル」「自分で作ったMYCOEIROINK」以外を事前学習モデルとして使うのは禁止です。\n",
        "\n",
        "## どうすれば「自分で作ったMYCOEIROINK」を事前学習モデルとして指定できますか？\n",
        "\n",
        "「モデルの学習スタート」内の以下のコードの`--train_args \"--init_param downloads/100epoch.pth:tts:tts\"`のパスを「自分で作ったMYCOEIROINK」のパスに変更することで指定できます。\n",
        "\n",
        "```\n",
        "#@title 「モデルの学習スタート」のために左の再生ボタンをおしてください\n",
        "%cd /content/espnet/egs2/mycoe/tts1/\n",
        "!./run.sh \\\n",
        "    --stage 6 \\\n",
        "    --stop-stage 6 \\\n",
        "    --ngpu 1 \\\n",
        "    --fs 44100 \\\n",
        "    --n_fft 2048 \\\n",
        "    --n_shift 512 \\\n",
        "    --win_length null \\\n",
        "    --dumpdir dump/44k \\\n",
        "    --expdir /content/drive/MyDrive/MYCOEIROINK_WORK/exp \\\n",
        "    --tts_task gan_tts \\\n",
        "    --feats_extract linear_spectrogram \\\n",
        "    --feats_normalize none \\\n",
        "    --train_config ./conf/finetune.yaml \\\n",
        "    --train_args \"--init_param downloads/100epoch.pth:tts:tts\" \\\n",
        "    --tag mycoe_model\n",
        "%cd /content/\n",
        "```\n",
        "\n",
        "## COEIROINK提供の事前学習モデルだけを使って、コードは自前のものでGoogle colabではなくローカルで作りたいんですが、それは「MYCOEIROINK」として配布できますか？\n",
        "\n",
        "問題ありません。ただし「COEIROINK提供の事前学習モデル」「自分で作ったMYCOEIROINK」以外を事前学習モデルとして使ったものを「MYCOEIROINK」として配布することは禁止です。\n",
        "「COEIROINK提供・MYCOEIROINK以外のモデル」は、「COEIROINK」での起動を許可していません。\n",
        "\n",
        "## 何度試しても上手く動きません！\n",
        "\n",
        "個人開発のベータ版なので、そういったこともあるかもしれません。温かい目でみていただけると幸いです。"
      ],
      "metadata": {
        "id": "gi5krm567z7j"
      }
    },
    {
      "cell_type": "markdown",
      "source": [
        "# 謝辞・クレジット\n",
        "\n",
        "このコードで使用される事前学習モデルには「つくよみちゃん（れいせい）」が使われております。\n",
        "\n",
        "「つくよみちゃん（れいせい）」モデルは、こちらのお二人の音声から作られております。\n",
        "\n",
        "- VTuber「鹿仲茉菜」さんの音声データ（事前学習モデルとして使用）\n",
        "- フリー素材キャラクター「つくよみちゃん」運営の「夢前黎」さんの音声データ\n",
        "\n",
        "お二人のお力がなければ「COEIROINK・MYCOEIROINK」を実現することはできませんでした。この場をかりてお礼をさせてください。本当にありがとうございました。"
      ],
      "metadata": {
        "id": "wPKKblhmG7Vc"
      }
    },
    {
      "cell_type": "markdown",
      "source": [
        "(c) shirowanisan"
      ],
      "metadata": {
        "id": "SskHHkaK_PMK"
      }
    }
  ],
  "metadata": {
    "accelerator": "GPU",
    "colab": {
      "collapsed_sections": [],
      "name": "MYCOEIROINK作成コード_ベータ版_v.0.0.3.ipynb",
      "provenance": [],
      "include_colab_link": true
    },
    "kernelspec": {
      "display_name": "Python 3",
      "name": "python3"
    },
    "language_info": {
      "name": "python"
    }
  },
  "nbformat": 4,
  "nbformat_minor": 0
}